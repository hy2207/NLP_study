{
 "cells": [
  {
   "cell_type": "markdown",
   "id": "dc97a3e7",
   "metadata": {},
   "source": [
    "### 정규표현식 실습 "
   ]
  },
  {
   "cell_type": "code",
   "execution_count": 1,
   "id": "dfd4973a",
   "metadata": {},
   "outputs": [],
   "source": [
    "import re"
   ]
  },
  {
   "cell_type": "code",
   "execution_count": 6,
   "id": "2bcb6e16",
   "metadata": {},
   "outputs": [
    {
     "name": "stdout",
     "output_type": "stream",
     "text": [
      "None\n",
      "<re.Match object; span=(0, 3), match='abc'>\n"
     ]
    }
   ],
   "source": [
    "r = re.compile(\"a.c\") #'.'기호 사용: a와 c 사이 1개의 임의의 문자 올 수 있음\n",
    "print(r.search(\"kkk\"))\n",
    "print(r.search(\"abc\"))"
   ]
  },
  {
   "cell_type": "code",
   "execution_count": 11,
   "id": "86cdffc0",
   "metadata": {},
   "outputs": [
    {
     "name": "stdout",
     "output_type": "stream",
     "text": [
      "<re.Match object; span=(0, 1), match='a'>\n",
      "<re.Match object; span=(0, 2), match='ab'>\n",
      "<re.Match object; span=(0, 3), match='abc'>\n",
      "<re.Match object; span=(0, 1), match='a'>\n"
     ]
    }
   ],
   "source": [
    "r = re.compile(\"ab?c?\") #'?'기호: b와 c가 있을 수도 있고 없을 수도 있음\n",
    "print(r.search(\"adbc\")) #bc앞에 d가와서 첫번째인 a와만 매치됨\n",
    "print(r.search(\"abbbc\")) #b는 1개이하이므로 'ab'까지만 매치\n",
    "print(r.search(\"abc\"))\n",
    "print(r.search(\"a\"))"
   ]
  },
  {
   "cell_type": "code",
   "execution_count": 14,
   "id": "7bf6efba",
   "metadata": {},
   "outputs": [
    {
     "name": "stdout",
     "output_type": "stream",
     "text": [
      "<re.Match object; span=(0, 5), match='abbbc'>\n",
      "<re.Match object; span=(0, 2), match='ac'>\n"
     ]
    }
   ],
   "source": [
    "r = re.compile(\"ab*c\") #'*'기호: b가 0개 이상\n",
    "print(r.search(\"abbbc\")) # b가 0개 이상이므로 모두 매치됨\n",
    "print(r.search(\"ac\"))"
   ]
  },
  {
   "cell_type": "code",
   "execution_count": 16,
   "id": "72ecbb99",
   "metadata": {},
   "outputs": [
    {
     "name": "stdout",
     "output_type": "stream",
     "text": [
      "<re.Match object; span=(0, 5), match='abbbc'>\n",
      "None\n"
     ]
    }
   ],
   "source": [
    "r = re.compile(\"ab+c\") #'+' 기호: b가 1개 이상\n",
    "print(r.search(\"abbbc\")) \n",
    "print(r.search(\"ac\")) #b가 1개도 존재하지 않으므로 none 리턴"
   ]
  },
  {
   "cell_type": "code",
   "execution_count": 25,
   "id": "19b61e66",
   "metadata": {},
   "outputs": [
    {
     "name": "stdout",
     "output_type": "stream",
     "text": [
      "<re.Match object; span=(0, 2), match='ab'>\n",
      "None\n"
     ]
    }
   ],
   "source": [
    "r = re.compile(\"^ab\") #'^ 기호': ab로 시작되는 문자열\n",
    "print(r.search(\"abbbc\"))\n",
    "print(r.search(\"acab\"))                "
   ]
  },
  {
   "cell_type": "code",
   "execution_count": 30,
   "id": "8370a737",
   "metadata": {},
   "outputs": [
    {
     "name": "stdout",
     "output_type": "stream",
     "text": [
      "None\n",
      "<re.Match object; span=(0, 4), match='abbc'>\n",
      "None\n"
     ]
    }
   ],
   "source": [
    "r = re.compile(\"ab{2}c\") #'{number}': a,c사이 b가 2개\n",
    "print(r.search(\"abc\"))\n",
    "print(r.search(\"abbc\")) #딱 2개일때만 매치됨\n",
    "print(r.search(\"abbbc\")) "
   ]
  },
  {
   "cell_type": "code",
   "execution_count": 33,
   "id": "739a6a70",
   "metadata": {},
   "outputs": [
    {
     "name": "stdout",
     "output_type": "stream",
     "text": [
      "None\n",
      "<re.Match object; span=(0, 5), match='abbbc'>\n",
      "None\n",
      "None\n"
     ]
    }
   ],
   "source": [
    "r = re.compile(\"ab{2,4}c\") #'{num1, num2}': a,c사이 b가 2개 이상 4개 이하\n",
    "print(r.search(\"abc\"))\n",
    "print(r.search(\"abbbc\"))\n",
    "print(r.search(\"abbbbbc\")) # b의 개수가 4 초과\n",
    "print(r.search(\"abb\")) #b는 2개이지만 c가 없음"
   ]
  },
  {
   "cell_type": "code",
   "execution_count": 44,
   "id": "6bff6624",
   "metadata": {},
   "outputs": [
    {
     "name": "stdout",
     "output_type": "stream",
     "text": [
      "<re.Match object; span=(0, 1), match='a'>\n",
      "<re.Match object; span=(3, 4), match='1'>\n",
      "<re.Match object; span=(0, 1), match='1'>\n",
      "<re.Match object; span=(1, 2), match='b'>\n",
      "<re.Match object; span=(3, 4), match='@'>\n"
     ]
    }
   ],
   "source": [
    "r = re.compile(\"[ad]\") #'[]' 기호: 대괄호 안의 문자 중 한개의 문자와 매치\n",
    "print(r.search(\"abcd\"))\n",
    "\n",
    "r1 = re.compile(\"[0-9]\") #숫자로 시작되는 문자열\n",
    "print(r1.search(\"abc123\"))\n",
    "print(r1.search(\"123abc\"))\n",
    "\n",
    "r2 = re.compile(\"[^ad]\") #'[^]': 뒤에 붙은 문자제외한 모든 문자를 매치\n",
    "print(r2.search(\"abcd\"))\n",
    "\n",
    "r3 = re.compile(\"[^0-9]\") #숫자 제외\n",
    "print(r3.search(\"123@abc\"))"
   ]
  },
  {
   "cell_type": "markdown",
   "id": "1d4cd698",
   "metadata": {},
   "source": [
    "#### 정규표현식 모듈함수 예제"
   ]
  },
  {
   "cell_type": "code",
   "execution_count": 48,
   "id": "5af6c9b2",
   "metadata": {},
   "outputs": [
    {
     "name": "stdout",
     "output_type": "stream",
     "text": [
      "None\n",
      "<re.Match object; span=(4, 9), match='hello'>\n"
     ]
    }
   ],
   "source": [
    "# re.match() 와 re.search 차이\n",
    "r = re.compile(\"hello\")\n",
    "print(r.match(\"oh, hello\")) #시작에서 일치하지 않으면 찾지 않음\n",
    "print(r.search(\"oh, hello\")) #중간에 패턴이 있으면 매치"
   ]
  },
  {
   "cell_type": "markdown",
   "id": "536ba294",
   "metadata": {},
   "source": [
    "#### NLTK에서의 정규표현식을 이용한 토큰화"
   ]
  },
  {
   "cell_type": "code",
   "execution_count": 51,
   "id": "3ccd02e8",
   "metadata": {},
   "outputs": [
    {
     "name": "stdout",
     "output_type": "stream",
     "text": [
      "첫 번째 토큰화:  ['How', 'you', 'been', 'How', 'you', 'doing', 'You', 'been', 'good', 'I', 'been', 'drinking', '8', 'calls', 'all', 'you']\n",
      "두 번째 토큰화:  [\"'How\", 'you', \"been?'',\", \"'How\", 'you', \"doing?'\", 'You', 'been', 'good,', 'I', 'been', 'drinking', '(8', 'calls,', 'all', 'you)']\n"
     ]
    }
   ],
   "source": [
    "from nltk.tokenize import RegexpTokenizer\n",
    "\n",
    "text = \"'How you been?'', 'How you doing?' You been good, I been drinking (8 calls, all you)\"\n",
    "\n",
    "tokenizer1 = RegexpTokenizer(\"[\\w]+\") #문자 또는 숫자가 1개이상인 경우 --> 특수 문자 제거\n",
    "tokenizer2 = RegexpTokenizer(\"\\s+\", gaps = True) #공백이 1개이상, gaps=True를 넣지 않으면 결과는 공백만 리턴함\n",
    "\n",
    "print(\"첫 번째 토큰화: \", tokenizer1.tokenize(text))\n",
    "print(\"두 번째 토큰화: \",tokenizer2.tokenize(text))"
   ]
  },
  {
   "cell_type": "code",
   "execution_count": null,
   "id": "3e275d61",
   "metadata": {},
   "outputs": [],
   "source": []
  }
 ],
 "metadata": {
  "kernelspec": {
   "display_name": "Python 3 (ipykernel)",
   "language": "python",
   "name": "python3"
  },
  "language_info": {
   "codemirror_mode": {
    "name": "ipython",
    "version": 3
   },
   "file_extension": ".py",
   "mimetype": "text/x-python",
   "name": "python",
   "nbconvert_exporter": "python",
   "pygments_lexer": "ipython3",
   "version": "3.8.16"
  }
 },
 "nbformat": 4,
 "nbformat_minor": 5
}
