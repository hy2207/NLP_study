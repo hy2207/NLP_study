{
 "cells": [
  {
   "attachments": {},
   "cell_type": "markdown",
   "metadata": {},
   "source": [
    "### Bag Of Words (BoW)\n",
    ": 단어들의 순서를 고려하지 않고, 단어들의 빈도수에만 집중하는 텍스트 데이터의 수치화 표현 방법\n",
    "1. 각 단어에 고유한 인덱스 부여 (단어 집합 생성)\n",
    "2. 각 인덱스의 위치에 따라 단어 토큰의 빈도수를 기록한 벡터 생성"
   ]
  },
  {
   "cell_type": "code",
   "execution_count": 1,
   "metadata": {},
   "outputs": [
    {
     "name": "stdout",
     "output_type": "stream",
     "text": [
      "['누가', '내', '가슴', '에다', '불', '을', '질렀나', '누가', '내', '심장', '에다', '못', '을', '박았나', '그대', '의', '눈빛', '은', '날', '얼어붙게', '해', '그대', '여', '다시', '내게', '마음', '을', '주오']\n"
     ]
    }
   ],
   "source": [
    "from konlpy.tag import Okt\n",
    "\n",
    "# 한글 문장 처리를 위해\n",
    "okt = Okt()\n",
    "\n",
    "# 형태소 확인 \n",
    "output = okt.morphs(\"\\\n",
    "누가 내 가슴에다 불을 질렀나 \\\n",
    "누가 내 심장에다 못을 박았나 \\\n",
    "그대의 눈빛은 날 얼어붙게 해 \\\n",
    "그대여 다시 내게 마음을 주오 \\\n",
    "\") \n",
    "\n",
    "print(output)\n"
   ]
  },
  {
   "cell_type": "code",
   "execution_count": 2,
   "metadata": {},
   "outputs": [],
   "source": [
    "#bow함수 정의\n",
    "def build_bag_of_words(input_text):\n",
    "    \n",
    "    input_text = input_text.replace('.','') #온점 제거\n",
    "    tokenized_txt = okt.morphs(input_text) #형태소 분석\n",
    "    \n",
    "    word_to_idx = {}\n",
    "    bow = []\n",
    "\n",
    "    for word in tokenized_txt:\n",
    "        if word not in word_to_idx.keys():\n",
    "            #처음 나온 단어\n",
    "            word_to_idx[word] = len(word_to_idx)\n",
    "            bow.insert(len(word_to_idx) -1, 1)\n",
    "        else:\n",
    "            idx = word_to_idx.get(word) #키 값으로 인덱스 호출\n",
    "            bow[idx] = bow[idx] + 1 #반복됐으므로 빈도수증가\n",
    "\n",
    "    return word_to_idx, bow"
   ]
  },
  {
   "cell_type": "code",
   "execution_count": 3,
   "metadata": {},
   "outputs": [
    {
     "name": "stdout",
     "output_type": "stream",
     "text": [
      "vocabulary:  {'누가': 0, '내': 1, '가슴': 2, '에다': 3, '불': 4, '을': 5, '질렀나': 6, '심장': 7, '못': 8, '박았나': 9, '그대': 10, '의': 11, '눈빛': 12, '은': 13, '날': 14, '얼어붙게': 15, '해': 16, '여': 17, '다시': 18, '내게': 19, '마음': 20, '주오': 21}\n",
      "bow vector:  [2, 2, 1, 2, 1, 3, 1, 1, 1, 1, 2, 1, 1, 1, 1, 1, 1, 1, 1, 1, 1, 1]\n"
     ]
    }
   ],
   "source": [
    "# 한글 문장 예시 결과 확인\n",
    "\n",
    "doc1 = \"\\\n",
    "누가 내 가슴에다 불을 질렀나 \\\n",
    "누가 내 심장에다 못을 박았나 \\\n",
    "그대의 눈빛은 날 얼어붙게 해 \\\n",
    "그대여 다시 내게 마음을 주오 \\\n",
    "\"\n",
    "vocab, bow = build_bag_of_words(doc1)\n",
    "print('vocabulary: ', vocab)\n",
    "print('bow vector: ', bow)"
   ]
  },
  {
   "cell_type": "code",
   "execution_count": 4,
   "metadata": {},
   "outputs": [
    {
     "name": "stdout",
     "output_type": "stream",
     "text": [
      "vocabulary:  {'every': 5, 'day': 2, 'night': 12, 'getting': 7, 'wasted': 15, 'but': 1, 'miss': 11, 'you': 17, 'what': 16, 'did': 3, 'do': 4, 'fuck': 6, 'it': 8, 'up': 14, 'laugh': 9, 'off': 13, 'and': 0, 'lost': 10}\n",
      "BoW vector:  [[1 1 1 1 1 2 1 1 2 1 1 1 1 1 1 1 1 2]]\n"
     ]
    }
   ],
   "source": [
    "# 사이킷런의 클래스를 이용한 BoW 확인\n",
    "import sklearn\n",
    "from sklearn.feature_extraction.text import CountVectorizer\n",
    "\n",
    "input_txt = [\"Every day, every night getting wasted \\\n",
    "But I miss you, what did I do?\\\n",
    "Fuck it up, laugh it off, and I lost you\"]\n",
    "\n",
    "\n",
    "vector = CountVectorizer()\n",
    "m = vector.fit_transform(input_txt)\n",
    "\n",
    "# 각 단어 인덱스 확인\n",
    "print('vocabulary: ', vector.vocabulary_)\n",
    "# 각 단어 빈도수 확인 \n",
    "print(\"BoW vector: \", m.toarray())"
   ]
  },
  {
   "attachments": {},
   "cell_type": "markdown",
   "metadata": {},
   "source": [
    "### TF-IDF (Term Frequency-Inverse Document Frequency)\n",
    "\n",
    ": DTM 내의 각 단어들마다 중요한 정도를 가중치로 주는 방법"
   ]
  },
  {
   "cell_type": "code",
   "execution_count": 12,
   "metadata": {},
   "outputs": [
    {
     "data": {
      "text/plain": [
       "['과일', '길어', '노란', '맛있어', '바나나', '사과', '제일', '중']"
      ]
     },
     "execution_count": 12,
     "metadata": {},
     "output_type": "execute_result"
    }
   ],
   "source": [
    "import pandas as pd\n",
    "from math import log\n",
    "\n",
    "docs = [\n",
    "    '사과 맛있어',\n",
    "    '사과 바나나',\n",
    "    '바나나 길어 노란 바나나',\n",
    "    '과일 중 제일 맛있어'\n",
    "]\n",
    "\n",
    "vocab = list(set(w for doc in docs for w in doc.split()))\n",
    "vocab.sort()\n",
    "vocab"
   ]
  },
  {
   "cell_type": "code",
   "execution_count": 13,
   "metadata": {},
   "outputs": [],
   "source": [
    "n = len(docs) #총 문서수\n",
    "\n",
    "# tf, idf, tf-idf 함수 정의\n",
    "def tf(t, d):\n",
    "    return d.count(t)\n",
    "\n",
    "def idf(t):\n",
    "    df = 0\n",
    "    for doc in docs:\n",
    "        df += t in doc\n",
    "    return log(n/(df + 1))\n",
    "\n",
    "def tfidf(t, d):\n",
    "    return tf(t,d) * idf(t)"
   ]
  },
  {
   "cell_type": "code",
   "execution_count": 19,
   "metadata": {},
   "outputs": [
    {
     "data": {
      "text/html": [
       "<div>\n",
       "<style scoped>\n",
       "    .dataframe tbody tr th:only-of-type {\n",
       "        vertical-align: middle;\n",
       "    }\n",
       "\n",
       "    .dataframe tbody tr th {\n",
       "        vertical-align: top;\n",
       "    }\n",
       "\n",
       "    .dataframe thead th {\n",
       "        text-align: right;\n",
       "    }\n",
       "</style>\n",
       "<table border=\"1\" class=\"dataframe\">\n",
       "  <thead>\n",
       "    <tr style=\"text-align: right;\">\n",
       "      <th></th>\n",
       "      <th>과일</th>\n",
       "      <th>길어</th>\n",
       "      <th>노란</th>\n",
       "      <th>맛있어</th>\n",
       "      <th>바나나</th>\n",
       "      <th>사과</th>\n",
       "      <th>제일</th>\n",
       "      <th>중</th>\n",
       "    </tr>\n",
       "  </thead>\n",
       "  <tbody>\n",
       "    <tr>\n",
       "      <th>0</th>\n",
       "      <td>0</td>\n",
       "      <td>0</td>\n",
       "      <td>0</td>\n",
       "      <td>1</td>\n",
       "      <td>0</td>\n",
       "      <td>1</td>\n",
       "      <td>0</td>\n",
       "      <td>0</td>\n",
       "    </tr>\n",
       "    <tr>\n",
       "      <th>1</th>\n",
       "      <td>0</td>\n",
       "      <td>0</td>\n",
       "      <td>0</td>\n",
       "      <td>0</td>\n",
       "      <td>1</td>\n",
       "      <td>1</td>\n",
       "      <td>0</td>\n",
       "      <td>0</td>\n",
       "    </tr>\n",
       "    <tr>\n",
       "      <th>2</th>\n",
       "      <td>0</td>\n",
       "      <td>1</td>\n",
       "      <td>1</td>\n",
       "      <td>0</td>\n",
       "      <td>2</td>\n",
       "      <td>0</td>\n",
       "      <td>0</td>\n",
       "      <td>0</td>\n",
       "    </tr>\n",
       "    <tr>\n",
       "      <th>3</th>\n",
       "      <td>1</td>\n",
       "      <td>0</td>\n",
       "      <td>0</td>\n",
       "      <td>1</td>\n",
       "      <td>0</td>\n",
       "      <td>0</td>\n",
       "      <td>1</td>\n",
       "      <td>1</td>\n",
       "    </tr>\n",
       "  </tbody>\n",
       "</table>\n",
       "</div>"
      ],
      "text/plain": [
       "   과일  길어  노란  맛있어  바나나  사과  제일  중\n",
       "0   0   0   0    1    0   1   0  0\n",
       "1   0   0   0    0    1   1   0  0\n",
       "2   0   1   1    0    2   0   0  0\n",
       "3   1   0   0    1    0   0   1  1"
      ]
     },
     "execution_count": 19,
     "metadata": {},
     "output_type": "execute_result"
    }
   ],
   "source": [
    "# tf 출력\n",
    "result = []\n",
    "\n",
    "# 각 문서에 대해 반복\n",
    "for i in range(n):\n",
    "    result.append([])\n",
    "    d = docs[i]\n",
    "    for j in range(len(vocab)):\n",
    "        t = vocab[j]\n",
    "        result[-1].append(tf(t,d))\n",
    "\n",
    "tf_ = pd.DataFrame(result, columns = vocab)\n",
    "tf_"
   ]
  },
  {
   "cell_type": "code",
   "execution_count": 20,
   "metadata": {},
   "outputs": [
    {
     "data": {
      "text/html": [
       "<div>\n",
       "<style scoped>\n",
       "    .dataframe tbody tr th:only-of-type {\n",
       "        vertical-align: middle;\n",
       "    }\n",
       "\n",
       "    .dataframe tbody tr th {\n",
       "        vertical-align: top;\n",
       "    }\n",
       "\n",
       "    .dataframe thead th {\n",
       "        text-align: right;\n",
       "    }\n",
       "</style>\n",
       "<table border=\"1\" class=\"dataframe\">\n",
       "  <thead>\n",
       "    <tr style=\"text-align: right;\">\n",
       "      <th></th>\n",
       "      <th>IDF</th>\n",
       "    </tr>\n",
       "  </thead>\n",
       "  <tbody>\n",
       "    <tr>\n",
       "      <th>과일</th>\n",
       "      <td>0.693147</td>\n",
       "    </tr>\n",
       "    <tr>\n",
       "      <th>길어</th>\n",
       "      <td>0.693147</td>\n",
       "    </tr>\n",
       "    <tr>\n",
       "      <th>노란</th>\n",
       "      <td>0.693147</td>\n",
       "    </tr>\n",
       "    <tr>\n",
       "      <th>맛있어</th>\n",
       "      <td>0.287682</td>\n",
       "    </tr>\n",
       "    <tr>\n",
       "      <th>바나나</th>\n",
       "      <td>0.287682</td>\n",
       "    </tr>\n",
       "    <tr>\n",
       "      <th>사과</th>\n",
       "      <td>0.287682</td>\n",
       "    </tr>\n",
       "    <tr>\n",
       "      <th>제일</th>\n",
       "      <td>0.693147</td>\n",
       "    </tr>\n",
       "    <tr>\n",
       "      <th>중</th>\n",
       "      <td>0.693147</td>\n",
       "    </tr>\n",
       "  </tbody>\n",
       "</table>\n",
       "</div>"
      ],
      "text/plain": [
       "          IDF\n",
       "과일   0.693147\n",
       "길어   0.693147\n",
       "노란   0.693147\n",
       "맛있어  0.287682\n",
       "바나나  0.287682\n",
       "사과   0.287682\n",
       "제일   0.693147\n",
       "중    0.693147"
      ]
     },
     "execution_count": 20,
     "metadata": {},
     "output_type": "execute_result"
    }
   ],
   "source": [
    "# idf 값 확인\n",
    "result = []\n",
    "for j in range(len(vocab)):\n",
    "    t = vocab[j]\n",
    "    result.append(idf(t))\n",
    "\n",
    "idf_ = pd.DataFrame(result, index=vocab, columns=['IDF'])\n",
    "idf_"
   ]
  },
  {
   "cell_type": "code",
   "execution_count": 21,
   "metadata": {},
   "outputs": [
    {
     "data": {
      "text/html": [
       "<div>\n",
       "<style scoped>\n",
       "    .dataframe tbody tr th:only-of-type {\n",
       "        vertical-align: middle;\n",
       "    }\n",
       "\n",
       "    .dataframe tbody tr th {\n",
       "        vertical-align: top;\n",
       "    }\n",
       "\n",
       "    .dataframe thead th {\n",
       "        text-align: right;\n",
       "    }\n",
       "</style>\n",
       "<table border=\"1\" class=\"dataframe\">\n",
       "  <thead>\n",
       "    <tr style=\"text-align: right;\">\n",
       "      <th></th>\n",
       "      <th>과일</th>\n",
       "      <th>길어</th>\n",
       "      <th>노란</th>\n",
       "      <th>맛있어</th>\n",
       "      <th>바나나</th>\n",
       "      <th>사과</th>\n",
       "      <th>제일</th>\n",
       "      <th>중</th>\n",
       "    </tr>\n",
       "  </thead>\n",
       "  <tbody>\n",
       "    <tr>\n",
       "      <th>0</th>\n",
       "      <td>0.000000</td>\n",
       "      <td>0.000000</td>\n",
       "      <td>0.000000</td>\n",
       "      <td>0.287682</td>\n",
       "      <td>0.000000</td>\n",
       "      <td>0.287682</td>\n",
       "      <td>0.000000</td>\n",
       "      <td>0.000000</td>\n",
       "    </tr>\n",
       "    <tr>\n",
       "      <th>1</th>\n",
       "      <td>0.000000</td>\n",
       "      <td>0.000000</td>\n",
       "      <td>0.000000</td>\n",
       "      <td>0.000000</td>\n",
       "      <td>0.287682</td>\n",
       "      <td>0.287682</td>\n",
       "      <td>0.000000</td>\n",
       "      <td>0.000000</td>\n",
       "    </tr>\n",
       "    <tr>\n",
       "      <th>2</th>\n",
       "      <td>0.000000</td>\n",
       "      <td>0.693147</td>\n",
       "      <td>0.693147</td>\n",
       "      <td>0.000000</td>\n",
       "      <td>0.575364</td>\n",
       "      <td>0.000000</td>\n",
       "      <td>0.000000</td>\n",
       "      <td>0.000000</td>\n",
       "    </tr>\n",
       "    <tr>\n",
       "      <th>3</th>\n",
       "      <td>0.693147</td>\n",
       "      <td>0.000000</td>\n",
       "      <td>0.000000</td>\n",
       "      <td>0.287682</td>\n",
       "      <td>0.000000</td>\n",
       "      <td>0.000000</td>\n",
       "      <td>0.693147</td>\n",
       "      <td>0.693147</td>\n",
       "    </tr>\n",
       "  </tbody>\n",
       "</table>\n",
       "</div>"
      ],
      "text/plain": [
       "         과일        길어        노란       맛있어       바나나        사과        제일  \\\n",
       "0  0.000000  0.000000  0.000000  0.287682  0.000000  0.287682  0.000000   \n",
       "1  0.000000  0.000000  0.000000  0.000000  0.287682  0.287682  0.000000   \n",
       "2  0.000000  0.693147  0.693147  0.000000  0.575364  0.000000  0.000000   \n",
       "3  0.693147  0.000000  0.000000  0.287682  0.000000  0.000000  0.693147   \n",
       "\n",
       "          중  \n",
       "0  0.000000  \n",
       "1  0.000000  \n",
       "2  0.000000  \n",
       "3  0.693147  "
      ]
     },
     "execution_count": 21,
     "metadata": {},
     "output_type": "execute_result"
    }
   ],
   "source": [
    "# tf-idf 출력\n",
    "result = []\n",
    "for i in range(n):\n",
    "    result.append([])\n",
    "    d = docs[i]\n",
    "    for j in range(len(vocab)):\n",
    "        t = vocab[j]\n",
    "        result[-1].append(tfidf(t,d))\n",
    "\n",
    "tfidf_ = pd.DataFrame(result, columns= vocab)\n",
    "tfidf_"
   ]
  },
  {
   "cell_type": "code",
   "execution_count": 27,
   "metadata": {},
   "outputs": [
    {
     "name": "stdout",
     "output_type": "stream",
     "text": [
      "[[0 1 0 0 2 0 0 1 0 0 0]\n",
      " [0 0 0 0 0 1 0 0 1 0 0]\n",
      " [1 0 0 0 0 0 1 0 0 0 1]\n",
      " [0 0 1 1 0 0 0 0 0 1 0]]\n",
      "{'every': 4, 'day': 1, 'night': 7, 'getting': 5, 'wasted': 8, 'but': 0, 'miss': 6, 'you': 10, 'what': 9, 'did': 2, 'do': 3}\n"
     ]
    }
   ],
   "source": [
    "# 사이킷런을 이용한 DTM & TF-IDF 실습\n",
    "from sklearn.feature_extraction.text import CountVectorizer\n",
    "\n",
    "corpus = [\"every day, every night\", \"getting wasted\", \\\n",
    "\"but I miss you\", \"what did I do?\"]\n",
    "\n",
    "# DTM 확인\n",
    "vector = CountVectorizer()\n",
    "print(vector.fit_transform(corpus).toarray()) #각 단어의 빈도수 출력\n",
    "print(vector.vocabulary_) #인덱스 출력"
   ]
  },
  {
   "cell_type": "code",
   "execution_count": 30,
   "metadata": {},
   "outputs": [
    {
     "name": "stdout",
     "output_type": "stream",
     "text": [
      "[[0.         0.40824829 0.         0.         0.81649658 0.\n",
      "  0.         0.40824829 0.         0.         0.        ]\n",
      " [0.         0.         0.         0.         0.         0.70710678\n",
      "  0.         0.         0.70710678 0.         0.        ]\n",
      " [0.57735027 0.         0.         0.         0.         0.\n",
      "  0.57735027 0.         0.         0.         0.57735027]\n",
      " [0.         0.         0.57735027 0.57735027 0.         0.\n",
      "  0.         0.         0.         0.57735027 0.        ]]\n"
     ]
    }
   ],
   "source": [
    "# 사이킷런 내의 메소드를 이용하여 tf-idf 값 출력\n",
    "from sklearn.feature_extraction.text import TfidfVectorizer\n",
    "\n",
    "tfidfv = TfidfVectorizer().fit(corpus)\n",
    "print(tfidfv.transform(corpus).toarray())"
   ]
  },
  {
   "cell_type": "code",
   "execution_count": null,
   "metadata": {},
   "outputs": [],
   "source": []
  }
 ],
 "metadata": {
  "kernelspec": {
   "display_name": "my_env",
   "language": "python",
   "name": "python3"
  },
  "language_info": {
   "codemirror_mode": {
    "name": "ipython",
    "version": 3
   },
   "file_extension": ".py",
   "mimetype": "text/x-python",
   "name": "python",
   "nbconvert_exporter": "python",
   "pygments_lexer": "ipython3",
   "version": "3.8.16"
  },
  "orig_nbformat": 4
 },
 "nbformat": 4,
 "nbformat_minor": 2
}
