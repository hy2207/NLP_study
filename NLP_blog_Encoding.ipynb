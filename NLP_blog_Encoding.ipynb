{
 "cells": [
  {
   "cell_type": "markdown",
   "id": "64dae187",
   "metadata": {},
   "source": [
    "### 정수 인코딩 (Integer Encoding)"
   ]
  },
  {
   "cell_type": "code",
   "execution_count": 1,
   "id": "f41d06d6",
   "metadata": {},
   "outputs": [],
   "source": [
    "from nltk.tokenize import sent_tokenize\n",
    "from nltk.tokenize import word_tokenize\n",
    "from nltk.corpus import stopwords"
   ]
  },
  {
   "cell_type": "code",
   "execution_count": 21,
   "id": "e3c2d9d8",
   "metadata": {
    "scrolled": true
   },
   "outputs": [
    {
     "name": "stdout",
     "output_type": "stream",
     "text": [
      "입력 data:  ['A barber is a person.', 'a barber is good person.', 'a barber is huge person.', 'he Knew A Secret!', 'The Secret He Kept is huge secret.', 'Huge secret.', 'His barber kept his word.', 'a barber kept his word.', 'His barber kept his secret.', 'But keeping and keeping such a huge secret         to himself was driving the barber crazy.', 'the barber went up a huge mountain.']\n",
      "정제된 data:  [['barber', 'person'], ['barber', 'good', 'person'], ['barber', 'huge', 'person'], ['knew', 'secret'], ['secret', 'kept', 'huge', 'secret'], ['huge', 'secret'], ['barber', 'kept', 'word'], ['barber', 'kept', 'word'], ['barber', 'kept', 'secret'], ['keeping', 'keeping', 'huge', 'secret', 'driving', 'barber', 'crazy'], ['barber', 'went', 'huge', 'mountain']]\n"
     ]
    }
   ],
   "source": [
    "text = \"A barber is a person. a barber is good person. \\\n",
    "        a barber is huge person. he Knew A Secret! The Secret He Kept is huge secret. \\\n",
    "        Huge secret. His barber kept his word. a barber kept his word. \\\n",
    "        His barber kept his secret. But keeping and keeping such a huge secret \\\n",
    "        to himself was driving the barber crazy. the barber went up a huge mountain.\"\n",
    "\n",
    "# sentence tokenization\n",
    "sentences = sent_tokenize(text)\n",
    "print(\"입력 data: \", sentences)\n",
    "\n",
    "# cleaning ( except stopwords and words length is less than two words)\n",
    "vocab = {}\n",
    "preprocessed_sentences = []\n",
    "stop_words = set(stopwords.words('english'))\n",
    "\n",
    "for sentence in sentences:\n",
    "    # word tokenization\n",
    "    tokenized_sentence = word_tokenize(sentence)\n",
    "    result = []\n",
    "    for word in tokenized_sentence:\n",
    "        word = word.lower() # 소문자화\n",
    "        if word not in stop_words:\n",
    "            if len(word) > 2:\n",
    "                result.append(word)\n",
    "                if word not in vocab:\n",
    "                    #빈도수 확인\n",
    "                    vocab[word] = 0\n",
    "                vocab[word] += 1\n",
    "    preprocessed_sentences.append(result)\n",
    "\n",
    "print(\"정제된 data: \", preprocessed_sentences)                "
   ]
  },
  {
   "cell_type": "code",
   "execution_count": 22,
   "id": "9541ed33",
   "metadata": {},
   "outputs": [
    {
     "name": "stdout",
     "output_type": "stream",
     "text": [
      "빈도수 확인:  {'barber': 8, 'person': 3, 'good': 1, 'huge': 5, 'knew': 1, 'secret': 6, 'kept': 4, 'word': 2, 'keeping': 2, 'driving': 1, 'crazy': 1, 'went': 1, 'mountain': 1}\n"
     ]
    }
   ],
   "source": [
    "print('빈도수 확인: ', vocab)"
   ]
  },
  {
   "cell_type": "code",
   "execution_count": 23,
   "id": "95347a2a",
   "metadata": {},
   "outputs": [
    {
     "name": "stdout",
     "output_type": "stream",
     "text": [
      "높은 순서대로 정렬:  [('barber', 8), ('secret', 6), ('huge', 5), ('kept', 4), ('person', 3), ('word', 2), ('keeping', 2), ('good', 1), ('knew', 1), ('driving', 1), ('crazy', 1), ('went', 1), ('mountain', 1)]\n",
      "인덱스 부여:  {'barber': 1, 'secret': 2, 'huge': 3, 'kept': 4, 'person': 5, 'word': 6, 'keeping': 7}\n"
     ]
    }
   ],
   "source": [
    "vocab_sorted = sorted(vocab.items(), key = lambda x: x[1], reverse = True) #내림차순\n",
    "print(\"높은 순서대로 정렬: \", vocab_sorted)\n",
    "\n",
    "word_to_idx = {}\n",
    "i = 0\n",
    "for (w, freq) in vocab_sorted:\n",
    "    if freq > 1: #빈도수 작은 단어 제외\n",
    "        i = i + 1\n",
    "        word_to_idx[w] = i\n",
    "print(\"인덱스 부여: \", word_to_idx)"
   ]
  },
  {
   "cell_type": "code",
   "execution_count": 28,
   "id": "c5482329",
   "metadata": {},
   "outputs": [
    {
     "name": "stdout",
     "output_type": "stream",
     "text": [
      "{'barber': 1, 'secret': 2, 'huge': 3, 'kept': 4, 'person': 5}\n"
     ]
    }
   ],
   "source": [
    "# 상위 5개만 사용할 예정\n",
    "vocab_size = 5\n",
    "words_frequency = [word for word, idx in word_to_idx.items() if idx >= vocab_size + 1]\n",
    "\n",
    "#해당 단어에 대한 인덱스 정보를 삭제\n",
    "for w in words_frequency:\n",
    "    del word_to_idx[w]\n",
    "print(word_to_idx)"
   ]
  },
  {
   "cell_type": "code",
   "execution_count": 29,
   "id": "237399e6",
   "metadata": {},
   "outputs": [
    {
     "name": "stdout",
     "output_type": "stream",
     "text": [
      "[[1, 5], [1, 6, 5], [1, 3, 5], [6, 2], [2, 4, 3, 2], [3, 2], [1, 4, 6], [1, 4, 6], [1, 4, 2], [6, 6, 3, 2, 6, 1, 6], [1, 6, 3, 6]]\n"
     ]
    }
   ],
   "source": [
    "# 단어에 없는 집합에 대한 인덱스 부여\n",
    "word_to_idx['OOV'] = len(word_to_idx) + 1 \n",
    "\n",
    "# 정수 인코딩\n",
    "encoded_sentences = []\n",
    "for s in preprocessed_sentences:\n",
    "    encoded_sentence = []\n",
    "    for w in s:\n",
    "        try:\n",
    "            # 단어 집에 있는 단어면 해당 단어의 인덱스(정수) 리턴\n",
    "            encoded_sentence.append(word_to_idx[w])\n",
    "        except KeyError:\n",
    "            # 집합에 없는 단어의 경우 'OOV'의 인덱스 값 리턴\n",
    "            encoded_sentence.append(word_to_idx['OOV'])\n",
    "    encoded_sentences.append(encoded_sentence)\n",
    "print(encoded_sentences)"
   ]
  },
  {
   "cell_type": "code",
   "execution_count": 30,
   "id": "bfb3bdba",
   "metadata": {},
   "outputs": [
    {
     "name": "stdout",
     "output_type": "stream",
     "text": [
      "['barber', 'person', 'barber', 'good', 'person', 'barber', 'huge', 'person', 'knew', 'secret', 'secret', 'kept', 'huge', 'secret', 'huge', 'secret', 'barber', 'kept', 'word', 'barber', 'kept', 'word', 'barber', 'kept', 'secret', 'keeping', 'keeping', 'huge', 'secret', 'driving', 'barber', 'crazy', 'barber', 'went', 'huge', 'mountain']\n"
     ]
    }
   ],
   "source": [
    "from collections import Counter\n",
    "\n",
    "#하나의 리스트로\n",
    "all_words_list = sum(preprocessed_sentences, []) \n",
    "print(all_words_list)"
   ]
  },
  {
   "cell_type": "code",
   "execution_count": 31,
   "id": "9f5de9ab",
   "metadata": {},
   "outputs": [
    {
     "name": "stdout",
     "output_type": "stream",
     "text": [
      "Counter({'barber': 8, 'secret': 6, 'huge': 5, 'kept': 4, 'person': 3, 'word': 2, 'keeping': 2, 'good': 1, 'knew': 1, 'driving': 1, 'crazy': 1, 'went': 1, 'mountain': 1})\n"
     ]
    }
   ],
   "source": [
    "#counter를 이용하여 빈도수 가져옴\n",
    "vocab = Counter(all_words_list)\n",
    "print(vocab)"
   ]
  },
  {
   "cell_type": "code",
   "execution_count": 32,
   "id": "3d1c1f20",
   "metadata": {},
   "outputs": [
    {
     "data": {
      "text/plain": [
       "[('barber', 8), ('secret', 6), ('huge', 5), ('kept', 4), ('person', 3)]"
      ]
     },
     "execution_count": 32,
     "metadata": {},
     "output_type": "execute_result"
    }
   ],
   "source": [
    "# 상위 5개만 단어 집합으로 저장\n",
    "vocab_size = 5\n",
    "vocab = vocab.most_common(vocab_size)\n",
    "vocab"
   ]
  },
  {
   "cell_type": "code",
   "execution_count": 34,
   "id": "fbc85266",
   "metadata": {},
   "outputs": [
    {
     "name": "stdout",
     "output_type": "stream",
     "text": [
      "dict_items([('barber', 8), ('person', 3), ('good', 1), ('huge', 5), ('knew', 1), ('secret', 6), ('kept', 4), ('word', 2), ('keeping', 2), ('driving', 1), ('crazy', 1), ('went', 1), ('mountain', 1)])\n"
     ]
    }
   ],
   "source": [
    "from nltk import FreqDist\n",
    "import numpy as np\n",
    "\n",
    "#np.hstack은 문장 구분을 제거해준 것으로 이 전 sum(.,[])과 같은 기능\n",
    "vocab = FreqDist(np.hstack(preprocessed_sentences))\n",
    "print(vocab.items())"
   ]
  },
  {
   "cell_type": "markdown",
   "id": "840176f5",
   "metadata": {},
   "source": [
    "### 케라스의 텍스트 전처리"
   ]
  },
  {
   "cell_type": "code",
   "execution_count": 35,
   "id": "4192c817",
   "metadata": {},
   "outputs": [],
   "source": [
    "from tensorflow.keras.preprocessing.text import Tokenizer"
   ]
  },
  {
   "cell_type": "code",
   "execution_count": 38,
   "id": "17b9bd32",
   "metadata": {},
   "outputs": [
    {
     "name": "stdout",
     "output_type": "stream",
     "text": [
      "인덱스:  {'barber': 1, 'secret': 2, 'huge': 3, 'kept': 4, 'person': 5, 'word': 6, 'keeping': 7, 'good': 8, 'knew': 9, 'driving': 10, 'crazy': 11, 'went': 12, 'mountain': 13}\n",
      "빈도수:  OrderedDict([('barber', 8), ('person', 3), ('good', 1), ('huge', 5), ('knew', 1), ('secret', 6), ('kept', 4), ('word', 2), ('keeping', 2), ('driving', 1), ('crazy', 1), ('went', 1), ('mountain', 1)])\n"
     ]
    }
   ],
   "source": [
    "tokenizer = Tokenizer()\n",
    "\n",
    "# 빈도수 기준으로 인덱스를 부여한 단어 집합을 생성\n",
    "tokenizer.fit_on_texts(preprocessed_sentences)\n",
    "print(\"인덱스: \", tokenizer.word_index)\n",
    "\n",
    "# 만약 단어에 대한 빈도수를 확인하고 싶다면\n",
    "print(\"빈도수: \", tokenizer.word_counts)"
   ]
  },
  {
   "cell_type": "code",
   "execution_count": 39,
   "id": "c7697cb4",
   "metadata": {},
   "outputs": [
    {
     "name": "stdout",
     "output_type": "stream",
     "text": [
      "[[1, 5], [1, 8, 5], [1, 3, 5], [9, 2], [2, 4, 3, 2], [3, 2], [1, 4, 6], [1, 4, 6], [1, 4, 2], [7, 7, 3, 2, 10, 1, 11], [1, 12, 3, 13]]\n"
     ]
    }
   ],
   "source": [
    "# 코퍼스에 대해 각 단어를 정수로 변환\n",
    "print(tokenizer.texts_to_sequences(preprocessed_sentences))"
   ]
  },
  {
   "cell_type": "code",
   "execution_count": 40,
   "id": "6952223b",
   "metadata": {},
   "outputs": [
    {
     "name": "stdout",
     "output_type": "stream",
     "text": [
      "[[1, 5], [1, 5], [1, 3, 5], [2], [2, 4, 3, 2], [3, 2], [1, 4], [1, 4], [1, 4, 2], [3, 2, 1], [1, 3]]\n"
     ]
    }
   ],
   "source": [
    "# 빈도수가 높은 상위 5개만 사용\n",
    "vocab_size = 5\n",
    "tokenizer = Tokenizer(num_words = vocab_size + 1) #1~5번 단어까지 보존할꺼니깐\n",
    "tokenizer.fit_on_texts(preprocessed_sentences)\n",
    "print(tokenizer.texts_to_sequences(preprocessed_sentences))"
   ]
  },
  {
   "cell_type": "code",
   "execution_count": 41,
   "id": "23896b2a",
   "metadata": {},
   "outputs": [
    {
     "name": "stdout",
     "output_type": "stream",
     "text": [
      "index of OOV: 1\n"
     ]
    }
   ],
   "source": [
    "#'oov' 를 사용하고 싶으면\n",
    "tokenizer = Tokenizer(num_words = vocab_size + 2, oov_token = 'OOV')\n",
    "tokenizer.fit_on_texts(preprocessed_sentences)\n",
    "\n",
    "#단, 케라스 토크나이저는 기본적으로 'oov'의 인덱스는 1로 지정\n",
    "print('index of OOV: {}'.format(tokenizer.word_index['OOV']) )"
   ]
  },
  {
   "cell_type": "code",
   "execution_count": 42,
   "id": "d7da6c92",
   "metadata": {},
   "outputs": [
    {
     "name": "stdout",
     "output_type": "stream",
     "text": [
      "[[2, 6], [2, 1, 6], [2, 4, 6], [1, 3], [3, 5, 4, 3], [4, 3], [2, 5, 1], [2, 5, 1], [2, 5, 3], [1, 1, 4, 3, 1, 2, 1], [2, 1, 4, 1]]\n"
     ]
    }
   ],
   "source": [
    "print(tokenizer.texts_to_sequences(preprocessed_sentences))"
   ]
  },
  {
   "cell_type": "markdown",
   "id": "907de9fd",
   "metadata": {},
   "source": [
    "### 패딩 (Padding)"
   ]
  },
  {
   "cell_type": "code",
   "execution_count": 43,
   "id": "690cb77e",
   "metadata": {},
   "outputs": [
    {
     "name": "stdout",
     "output_type": "stream",
     "text": [
      "[[1, 5], [1, 8, 5], [1, 3, 5], [9, 2], [2, 4, 3, 2], [3, 2], [1, 4, 6], [1, 4, 6], [1, 4, 2], [7, 7, 3, 2, 10, 1, 11], [1, 12, 3, 13]]\n"
     ]
    }
   ],
   "source": [
    "# Numpy 이용\n",
    "import numpy as np\n",
    "from tensorflow.keras.preprocessing.text import Tokenizer\n",
    "\n",
    "#정수인코딩에서 사용한 예제 그대로 이용\n",
    "tokenizer = Tokenizer()\n",
    "tokenizer.fit_on_texts(preprocessed_sentences)\n",
    "encoded = tokenizer.texts_to_sequences(preprocessed_sentences)\n",
    "print(encoded)"
   ]
  },
  {
   "cell_type": "code",
   "execution_count": 44,
   "id": "3e9e4dae",
   "metadata": {},
   "outputs": [
    {
     "name": "stdout",
     "output_type": "stream",
     "text": [
      "최대 길이 :  7\n"
     ]
    }
   ],
   "source": [
    "# 문장 중 가장 긴 길이 계산\n",
    "max_len = max(len(item) for item in encoded)\n",
    "print(\"최대 길이 : \", max_len)"
   ]
  },
  {
   "cell_type": "code",
   "execution_count": 46,
   "id": "9dfd4250",
   "metadata": {},
   "outputs": [
    {
     "data": {
      "text/plain": [
       "array([[ 1,  5,  0,  0,  0,  0,  0],\n",
       "       [ 1,  8,  5,  0,  0,  0,  0],\n",
       "       [ 1,  3,  5,  0,  0,  0,  0],\n",
       "       [ 9,  2,  0,  0,  0,  0,  0],\n",
       "       [ 2,  4,  3,  2,  0,  0,  0],\n",
       "       [ 3,  2,  0,  0,  0,  0,  0],\n",
       "       [ 1,  4,  6,  0,  0,  0,  0],\n",
       "       [ 1,  4,  6,  0,  0,  0,  0],\n",
       "       [ 1,  4,  2,  0,  0,  0,  0],\n",
       "       [ 7,  7,  3,  2, 10,  1, 11],\n",
       "       [ 1, 12,  3, 13,  0,  0,  0]])"
      ]
     },
     "execution_count": 46,
     "metadata": {},
     "output_type": "execute_result"
    }
   ],
   "source": [
    "for sentence in encoded:\n",
    "    while len(sentence) < max_len:\n",
    "        sentence.append(0)\n",
    "\n",
    "padded_np = np.array(encoded)\n",
    "padded_np"
   ]
  },
  {
   "cell_type": "code",
   "execution_count": 47,
   "id": "551fdef3",
   "metadata": {},
   "outputs": [
    {
     "name": "stdout",
     "output_type": "stream",
     "text": [
      "[[1, 5], [1, 8, 5], [1, 3, 5], [9, 2], [2, 4, 3, 2], [3, 2], [1, 4, 6], [1, 4, 6], [1, 4, 2], [7, 7, 3, 2, 10, 1, 11], [1, 12, 3, 13]]\n"
     ]
    }
   ],
   "source": [
    "#케라스 전처리 도구 이용\n",
    "from tensorflow.keras.preprocessing.sequence import pad_sequences\n",
    "\n",
    "encoded = tokenizer.texts_to_sequences(preprocessed_sentences)\n",
    "print(encoded)"
   ]
  },
  {
   "cell_type": "code",
   "execution_count": 48,
   "id": "d0fa45a0",
   "metadata": {},
   "outputs": [
    {
     "data": {
      "text/plain": [
       "array([[ 0,  0,  0,  0,  0,  1,  5],\n",
       "       [ 0,  0,  0,  0,  1,  8,  5],\n",
       "       [ 0,  0,  0,  0,  1,  3,  5],\n",
       "       [ 0,  0,  0,  0,  0,  9,  2],\n",
       "       [ 0,  0,  0,  2,  4,  3,  2],\n",
       "       [ 0,  0,  0,  0,  0,  3,  2],\n",
       "       [ 0,  0,  0,  0,  1,  4,  6],\n",
       "       [ 0,  0,  0,  0,  1,  4,  6],\n",
       "       [ 0,  0,  0,  0,  1,  4,  2],\n",
       "       [ 7,  7,  3,  2, 10,  1, 11],\n",
       "       [ 0,  0,  0,  1, 12,  3, 13]], dtype=int32)"
      ]
     },
     "execution_count": 48,
     "metadata": {},
     "output_type": "execute_result"
    }
   ],
   "source": [
    "padded = pad_sequences(encoded)\n",
    "padded"
   ]
  },
  {
   "cell_type": "code",
   "execution_count": 49,
   "id": "6604bf1a",
   "metadata": {},
   "outputs": [
    {
     "data": {
      "text/plain": [
       "array([[ 1,  5,  0,  0,  0,  0,  0],\n",
       "       [ 1,  8,  5,  0,  0,  0,  0],\n",
       "       [ 1,  3,  5,  0,  0,  0,  0],\n",
       "       [ 9,  2,  0,  0,  0,  0,  0],\n",
       "       [ 2,  4,  3,  2,  0,  0,  0],\n",
       "       [ 3,  2,  0,  0,  0,  0,  0],\n",
       "       [ 1,  4,  6,  0,  0,  0,  0],\n",
       "       [ 1,  4,  6,  0,  0,  0,  0],\n",
       "       [ 1,  4,  2,  0,  0,  0,  0],\n",
       "       [ 7,  7,  3,  2, 10,  1, 11],\n",
       "       [ 1, 12,  3, 13,  0,  0,  0]], dtype=int32)"
      ]
     },
     "execution_count": 49,
     "metadata": {},
     "output_type": "execute_result"
    }
   ],
   "source": [
    "padded = pad_sequences(encoded, padding='post')\n",
    "padded"
   ]
  },
  {
   "cell_type": "code",
   "execution_count": 50,
   "id": "188f87ce",
   "metadata": {},
   "outputs": [
    {
     "data": {
      "text/plain": [
       "array([[ 1,  5,  0,  0,  0],\n",
       "       [ 1,  8,  5,  0,  0],\n",
       "       [ 1,  3,  5,  0,  0],\n",
       "       [ 9,  2,  0,  0,  0],\n",
       "       [ 2,  4,  3,  2,  0],\n",
       "       [ 3,  2,  0,  0,  0],\n",
       "       [ 1,  4,  6,  0,  0],\n",
       "       [ 1,  4,  6,  0,  0],\n",
       "       [ 1,  4,  2,  0,  0],\n",
       "       [ 3,  2, 10,  1, 11],\n",
       "       [ 1, 12,  3, 13,  0]], dtype=int32)"
      ]
     },
     "execution_count": 50,
     "metadata": {},
     "output_type": "execute_result"
    }
   ],
   "source": [
    "padded = pad_sequences(encoded, padding='post', maxlen = 5)\n",
    "padded"
   ]
  },
  {
   "cell_type": "code",
   "execution_count": 52,
   "id": "f909d995",
   "metadata": {},
   "outputs": [
    {
     "data": {
      "text/plain": [
       "array([[ 1,  5,  0,  0,  0],\n",
       "       [ 1,  8,  5,  0,  0],\n",
       "       [ 1,  3,  5,  0,  0],\n",
       "       [ 9,  2,  0,  0,  0],\n",
       "       [ 2,  4,  3,  2,  0],\n",
       "       [ 3,  2,  0,  0,  0],\n",
       "       [ 1,  4,  6,  0,  0],\n",
       "       [ 1,  4,  6,  0,  0],\n",
       "       [ 1,  4,  2,  0,  0],\n",
       "       [ 7,  7,  3,  2, 10],\n",
       "       [ 1, 12,  3, 13,  0]], dtype=int32)"
      ]
     },
     "execution_count": 52,
     "metadata": {},
     "output_type": "execute_result"
    }
   ],
   "source": [
    "padded = pad_sequences(encoded, padding='post',truncating='post', maxlen = 5)\n",
    "padded"
   ]
  },
  {
   "cell_type": "markdown",
   "id": "288c790f",
   "metadata": {},
   "source": [
    "### 원 핫 인코딩 (One-Hot Encoding"
   ]
  },
  {
   "cell_type": "code",
   "execution_count": 56,
   "id": "3fba3c77",
   "metadata": {},
   "outputs": [
    {
     "name": "stdout",
     "output_type": "stream",
     "text": [
      "['안녕', '내', '취미', '는', '수영', '하는', '거야']\n"
     ]
    }
   ],
   "source": [
    "# 한국어 자연어 처리에서의 원핫인코딩\n",
    "from konlpy.tag import Okt\n",
    "\n",
    "okt = Okt()\n",
    "tokens = okt.morphs(\"안녕 내 취미는 수영하는 거야\")\n",
    "print(tokens)"
   ]
  },
  {
   "cell_type": "code",
   "execution_count": 57,
   "id": "155e7f6f",
   "metadata": {},
   "outputs": [
    {
     "name": "stdout",
     "output_type": "stream",
     "text": [
      "단어 집합:  {'안녕': 0, '내': 1, '취미': 2, '는': 3, '수영': 4, '하는': 5, '거야': 6}\n"
     ]
    }
   ],
   "source": [
    "word_to_idx = {word : idx for idx, word in enumerate(tokens)}\n",
    "print(\"단어 집합: \", word_to_idx)"
   ]
  },
  {
   "cell_type": "code",
   "execution_count": 58,
   "id": "e22b0277",
   "metadata": {},
   "outputs": [],
   "source": [
    "def one_hot_encoding(word, word_to_idx):\n",
    "    one_hot_vector = [0]*(len(word_to_idx))\n",
    "    idx = word_to_idx[word]\n",
    "    one_hot_vector[idx] = 1\n",
    "    return one_hot_vector"
   ]
  },
  {
   "cell_type": "code",
   "execution_count": 59,
   "id": "c51bdc98",
   "metadata": {},
   "outputs": [
    {
     "data": {
      "text/plain": [
       "[0, 0, 1, 0, 0, 0, 0]"
      ]
     },
     "execution_count": 59,
     "metadata": {},
     "output_type": "execute_result"
    }
   ],
   "source": [
    "one_hot_encoding(\"취미\", word_to_idx)"
   ]
  },
  {
   "cell_type": "code",
   "execution_count": 64,
   "id": "10a2be62",
   "metadata": {},
   "outputs": [
    {
     "name": "stdout",
     "output_type": "stream",
     "text": [
      "단어 집합 :  {'수영': 1, '오늘': 2, '같이': 3, '수영하러': 4, '갈래': 5, '수업은': 6, '아침에': 7, '있어': 8}\n"
     ]
    }
   ],
   "source": [
    "from tensorflow.keras.preprocessing.text import Tokenizer\n",
    "from tensorflow.keras.utils import to_categorical\n",
    "\n",
    "text = \"오늘 같이 수영하러 갈래? 수영 수업은 아침에 있어 수영 수영 수영\" #말 안되는 문장이지만 실습위해 임의로\n",
    "tokenizer = Tokenizer()\n",
    "tokenizer.fit_on_texts([text])\n",
    "print('단어 집합 : ', tokenizer.word_index)"
   ]
  },
  {
   "cell_type": "code",
   "execution_count": 66,
   "id": "7bb9de4c",
   "metadata": {},
   "outputs": [
    {
     "name": "stdout",
     "output_type": "stream",
     "text": [
      "정수 시퀀스:  [7, 1, 5]\n",
      "[[0. 0. 0. 0. 0. 0. 0. 1.]\n",
      " [0. 1. 0. 0. 0. 0. 0. 0.]\n",
      " [0. 0. 0. 0. 0. 1. 0. 0.]]\n"
     ]
    }
   ],
   "source": [
    "sub_text = \"아침에 수영 갈래?\"\n",
    "encoded = tokenizer.texts_to_sequences([sub_text])[0] #정수 시퀀스로 변환\n",
    "print(\"정수 시퀀스: \", encoded)\n",
    "one_hot = to_categorical(encoded)\n",
    "print(one_hot)"
   ]
  },
  {
   "cell_type": "code",
   "execution_count": null,
   "id": "4f8880cf",
   "metadata": {},
   "outputs": [],
   "source": []
  }
 ],
 "metadata": {
  "kernelspec": {
   "display_name": "Python 3 (ipykernel)",
   "language": "python",
   "name": "python3"
  },
  "language_info": {
   "codemirror_mode": {
    "name": "ipython",
    "version": 3
   },
   "file_extension": ".py",
   "mimetype": "text/x-python",
   "name": "python",
   "nbconvert_exporter": "python",
   "pygments_lexer": "ipython3",
   "version": "3.8.16"
  }
 },
 "nbformat": 4,
 "nbformat_minor": 5
}
