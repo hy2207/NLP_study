{
 "cells": [
  {
   "cell_type": "markdown",
   "id": "d86ea677",
   "metadata": {},
   "source": [
    "### 표제어 추출"
   ]
  },
  {
   "cell_type": "code",
   "execution_count": 2,
   "id": "82a077e0",
   "metadata": {},
   "outputs": [
    {
     "name": "stderr",
     "output_type": "stream",
     "text": [
      "[nltk_data] Downloading package omw-1.4 to /Users/chy/nltk_data...\n"
     ]
    },
    {
     "data": {
      "text/plain": [
       "True"
      ]
     },
     "execution_count": 2,
     "metadata": {},
     "output_type": "execute_result"
    }
   ],
   "source": [
    "import nltk\n",
    "nltk.download('omw-1.4')"
   ]
  },
  {
   "cell_type": "code",
   "execution_count": 3,
   "id": "07cc4c87",
   "metadata": {},
   "outputs": [
    {
     "name": "stdout",
     "output_type": "stream",
     "text": [
      "Lemmatizer:  ['policy', 'doing', 'organization', 'have', 'love', 'life', 'fly', 'dy', 'watched', 'ha', 'starting']\n"
     ]
    }
   ],
   "source": [
    "from nltk.stem import WordNetLemmatizer\n",
    "\n",
    "lemmatizer = WordNetLemmatizer()\n",
    "\n",
    "words = ['policy', 'doing', 'organization', 'have', 'love', 'lives', 'fly', 'dies', 'watched', 'has', 'starting']\n",
    "\n",
    "print('Lemmatizer: ',[lemmatizer.lemmatize(w) for w in words] )"
   ]
  },
  {
   "cell_type": "code",
   "execution_count": 4,
   "id": "109cf31c",
   "metadata": {},
   "outputs": [
    {
     "data": {
      "text/plain": [
       "'die'"
      ]
     },
     "execution_count": 4,
     "metadata": {},
     "output_type": "execute_result"
    }
   ],
   "source": [
    "lemmatizer.lemmatize('dies','v')"
   ]
  },
  {
   "cell_type": "code",
   "execution_count": 5,
   "id": "993d3602",
   "metadata": {},
   "outputs": [
    {
     "name": "stdout",
     "output_type": "stream",
     "text": [
      "After stemming:  ['thi', 'wa', 'not', 'the', 'map', 'we', 'found', 'in', 'billi', 'bone', \"'s\", 'chest', ',', 'but', 'an', 'accur', 'copi', ',', 'complet', 'in', 'all', 'thing', '--', 'name', 'and', 'height', 'and', 'sound', '--', 'with', 'the', 'singl', 'except', 'of', 'the', 'red', 'cross', 'and', 'the', 'written', 'note', '.']\n"
     ]
    }
   ],
   "source": [
    "from nltk.stem import PorterStemmer\n",
    "from nltk.tokenize import word_tokenize\n",
    "\n",
    "stemmer = PorterStemmer()\n",
    "\n",
    "sentence = \"This was not the map we found in Billy Bones's chest, \\\n",
    "            but an accurate copy, complete in all things--names and heights and soundings--with \\\n",
    "            the single exception of the red crosses and the written notes.\"\n",
    "\n",
    "tokenized_sentence = word_tokenize(sentence)\n",
    "\n",
    "print('After stemming: ', [stemmer.stem(w) for w in tokenized_sentence])"
   ]
  },
  {
   "cell_type": "code",
   "execution_count": 6,
   "id": "7cf6bf44",
   "metadata": {},
   "outputs": [
    {
     "name": "stdout",
     "output_type": "stream",
     "text": [
      "result :  ['formal', 'allow', 'electric']\n"
     ]
    }
   ],
   "source": [
    "words = ['formalize', 'allowance', 'electricical']\n",
    "\n",
    "print('result : ', [stemmer.stem(w) for w in words])"
   ]
  },
  {
   "cell_type": "markdown",
   "id": "08636dd8",
   "metadata": {},
   "source": [
    "### 불용어 (stopword)"
   ]
  },
  {
   "cell_type": "code",
   "execution_count": 2,
   "id": "e9116c87",
   "metadata": {},
   "outputs": [],
   "source": [
    "from nltk.corpus import stopwords\n",
    "from nltk.tokenize import word_tokenize\n",
    "from konlpy.tag import Okt"
   ]
  },
  {
   "cell_type": "code",
   "execution_count": 3,
   "id": "a143cca2",
   "metadata": {},
   "outputs": [
    {
     "name": "stdout",
     "output_type": "stream",
     "text": [
      "num of stopwords:  179\n",
      "examples of stopwords:  ['i', 'me', 'my', 'myself', 'we', 'our', 'ours', 'ourselves', 'you', \"you're\"]\n"
     ]
    }
   ],
   "source": [
    "# nltk 에서 불용어 확인\n",
    "stop_words_list = stopwords.words('english')\n",
    "print('num of stopwords: ', len(stop_words_list))\n",
    "print('examples of stopwords: ', stop_words_list[:10])"
   ]
  },
  {
   "cell_type": "code",
   "execution_count": 5,
   "id": "8b1b3b8b",
   "metadata": {},
   "outputs": [
    {
     "name": "stdout",
     "output_type": "stream",
     "text": [
      "불용어 제거 전:  ['Drank', 'too', 'much', ',', 'got', 'the', 'sickness', '.', 'Pray', 'to', 'God', 'and', 'his', 'son', 'for', 'forgiveness', '.']\n",
      "불용어 제거 후:  ['Drank', 'much', ',', 'got', 'sickness', '.', 'Pray', 'God', 'son', 'forgiveness', '.']\n"
     ]
    }
   ],
   "source": [
    "# 불용어 제거 예시\n",
    "example = \"Drank too much, got the sickness. Pray to God and his son for forgiveness.\"\n",
    "stop_words = set(stopwords.words('english'))\n",
    "\n",
    "word_tokens = word_tokenize(example)\n",
    "\n",
    "result = []\n",
    "for w in word_tokens:\n",
    "    if w not in stop_words:\n",
    "        result.append(w)\n",
    "\n",
    "print('불용어 제거 전: ', word_tokens)\n",
    "print('불용어 제거 후: ', result)\n"
   ]
  },
  {
   "cell_type": "code",
   "execution_count": 6,
   "id": "c522f5c0",
   "metadata": {},
   "outputs": [
    {
     "name": "stdout",
     "output_type": "stream",
     "text": [
      "불용어 제거 전:  ['잠깐', '시간', '될까', '만날', '수', '있을까', '?', '별일', '은', '아니고', '그냥', '보고', '싶어', '그래', '.']\n",
      "불용어 제거 후:  ['잠깐', '시간', '될까', '만날', '있을까', '?', '별일', '아니고', '보고', '싶어', '그래', '.']\n"
     ]
    }
   ],
   "source": [
    "# 한국어에서의 불용어 제거\n",
    "okt = Okt()\n",
    "example = \"잠깐 시간 될까 만날 수 있을까? 별일은 아니고 그냥 보고 싶어 그래.\"\n",
    "stop_words = \"까 은 수 그냥\"\n",
    "\n",
    "stop_words = set(stop_words.split(' '))\n",
    "word_tokens = okt.morphs(example)\n",
    "\n",
    "result = [w for w in word_tokens if not w in stop_words]\n",
    "\n",
    "print('불용어 제거 전: ', word_tokens)\n",
    "print('불용어 제거 후: ', result)"
   ]
  }
 ],
 "metadata": {
  "kernelspec": {
   "display_name": "Python 3 (ipykernel)",
   "language": "python",
   "name": "python3"
  },
  "language_info": {
   "codemirror_mode": {
    "name": "ipython",
    "version": 3
   },
   "file_extension": ".py",
   "mimetype": "text/x-python",
   "name": "python",
   "nbconvert_exporter": "python",
   "pygments_lexer": "ipython3",
   "version": "3.8.16"
  }
 },
 "nbformat": 4,
 "nbformat_minor": 5
}
